{
 "cells": [
  {
   "cell_type": "code",
   "execution_count": 2,
   "metadata": {
    "collapsed": false
   },
   "outputs": [],
   "source": [
    "MONKEYLEARN_CLASSIFIER_BASE_URL = 'https://api.monkeylearn.com/api/v1/categorizer/'\n",
    "MONKEYLEARN_EXTRACTOR_BASE_URL = 'https://api.monkeylearn.com/api/v1/extraction/'\n",
    "\n",
    "# This classifier is used to detect the tweet/bio's language\n",
    "MONKEYLEARN_LANG_CLASSIFIER_ID = 'cl_hDDngsX8'\n",
    "\n",
    "# This classifier is used to detect the tweet/bio's topics\n",
    "MONKEYLEARN_TOPIC_CLASSIFIER_ID = 'cl_5icAVzKR'\n",
    "\n",
    "# This extractor is used to extract keywords from tweets and bios\n",
    "MONKEYLEARN_EXTRACTOR_ID = 'ex_y7BPYzNG'"
   ]
  },
  {
   "cell_type": "code",
   "execution_count": null,
   "metadata": {
    "collapsed": true
   },
   "outputs": [],
   "source": [
    "# tweepy is used to call the Twitter API from Python\n",
    "import tweepy\n",
    "import re\n",
    "import credentials as cr\n",
    " \n",
    "# Authenticate to Twitter API\n",
    "auth = tweepy.OAuthHandler(cr.TWITTER_CONSUMER_KEY, cr.TWITTER_CONSUMER_SECRET)\n",
    "auth.set_access_token(cr.TWITTER_ACCESS_TOKEN_KEY, cr.TWITTER_ACCESS_TOKEN_SECRET)\n",
    "api = tweepy.API(auth)"
   ]
  },
  {
   "cell_type": "code",
   "execution_count": null,
   "metadata": {
    "collapsed": true
   },
   "outputs": [],
   "source": []
  },
  {
   "cell_type": "code",
   "execution_count": null,
   "metadata": {
    "collapsed": true
   },
   "outputs": [],
   "source": []
  }
 ],
 "metadata": {
  "anaconda-cloud": {},
  "kernelspec": {
   "display_name": "Python [conda env:py27]",
   "language": "python",
   "name": "conda-env-py27-py"
  },
  "language_info": {
   "codemirror_mode": {
    "name": "ipython",
    "version": 2
   },
   "file_extension": ".py",
   "mimetype": "text/x-python",
   "name": "python",
   "nbconvert_exporter": "python",
   "pygments_lexer": "ipython2",
   "version": "2.7.12"
  }
 },
 "nbformat": 4,
 "nbformat_minor": 0
}

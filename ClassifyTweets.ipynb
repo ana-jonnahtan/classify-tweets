{
 "cells": [
  {
   "cell_type": "code",
   "execution_count": 1,
   "metadata": {
    "collapsed": false
   },
   "outputs": [],
   "source": [
    "MONKEYLEARN_CLASSIFIER_BASE_URL = 'https://api.monkeylearn.com/api/v1/categorizer/'\n",
    "MONKEYLEARN_EXTRACTOR_BASE_URL = 'https://api.monkeylearn.com/api/v1/extraction/'\n",
    "\n",
    "# This classifier is used to detect the tweet/bio's language\n",
    "MONKEYLEARN_LANG_CLASSIFIER_ID = 'cl_hDDngsX8'\n",
    "\n",
    "# This classifier is used to detect the tweet/bio's topics\n",
    "MONKEYLEARN_TOPIC_CLASSIFIER_ID = 'cl_5icAVzKR'\n",
    "\n",
    "# This extractor is used to extract keywords from tweets and bios\n",
    "MONKEYLEARN_EXTRACTOR_ID = 'ex_y7BPYzNG'"
   ]
  },
  {
   "cell_type": "markdown",
   "metadata": {},
   "source": [
    "<h1> Get user data with Twitter API </h1>"
   ]
  },
  {
   "cell_type": "code",
   "execution_count": 2,
   "metadata": {
    "collapsed": false
   },
   "outputs": [],
   "source": [
    "# tweepy is used to call the Twitter API from Python\n",
    "import tweepy\n",
    "import re\n",
    "import credentials as cr\n",
    " \n",
    "# Authenticate to Twitter API\n",
    "auth = tweepy.OAuthHandler(cr.TWITTER_CONSUMER_KEY, cr.TWITTER_CONSUMER_SECRET)\n",
    "auth.set_access_token(cr.TWITTER_ACCESS_TOKEN_KEY, cr.TWITTER_ACCESS_TOKEN_SECRET)\n",
    "api = tweepy.API(auth)\n",
    "\n",
    "MONKEYLEARN_TOKEN = cr.MONKEYLEARN_TOKEN\n",
    "TWITTER_USER = cr.TWITTER_USER\n"
   ]
  },
  {
   "cell_type": "code",
   "execution_count": 30,
   "metadata": {
    "collapsed": false
   },
   "outputs": [],
   "source": [
    "from random import shuffle\n",
    "\n",
    "def get_friends_descriptions(api, twitter_account, max_users=10):\n",
    "    \"\"\"\n",
    "    Return the bios of the people that a user follows\n",
    "    \n",
    "    api -- the tweetpy API object\n",
    "    twitter_account -- the Twitter handle of the user\n",
    "    max_users -- the maximum amount of users to return\n",
    "    \"\"\"\n",
    "    \n",
    "    user_ids = api.friends_ids(twitter_account)\n",
    "    shuffle(user_ids)\n",
    "    \n",
    "    following = []\n",
    "    \n",
    "    batch_size= min(100, min(max_users, len(user_ids)))\n",
    "    for start in xrange(0, min(max_users, len(user_ids)), batch_size):\n",
    "        \n",
    "        end = start + batch_size\n",
    "        following.extend(api.lookup_users(user_ids[start:end]))\n",
    "    \n",
    "    descriptions = {}\n",
    "    for user in following:\n",
    "        bio = re.sub(r'(https?://\\S+)', '', user.description)\n",
    "        user_name = user.screen_name\n",
    "        descriptions[user_name] = bio\n",
    "        \n",
    "       \n",
    "    # Only descriptions with at least ten words.\n",
    "        #if len(re.split(r'[^0-9A-Za-z]+', description)) > 10:\n",
    "            #descriptions.append(description.strip('#').strip('@'))\n",
    "    \n",
    "    return descriptions"
   ]
  },
  {
   "cell_type": "code",
   "execution_count": 13,
   "metadata": {
    "collapsed": true
   },
   "outputs": [],
   "source": [
    "def get_tweets(api, twitter_user, tweet_type='timeline', max_tweets=200, min_words=5):\n",
    "    \n",
    "    tweets = []\n",
    "    \n",
    "    full_tweets = []\n",
    "    step = 200  # Maximum value is 200.\n",
    "    for start in xrange(0, max_tweets, step):\n",
    "        #end = start + step\n",
    "        \n",
    "        # Maximum of `step` tweets, or the remaining to reach max_tweets.\n",
    "        count = min(step, max_tweets - start)\n",
    "\n",
    "        kwargs = {'count': count}\n",
    "        if full_tweets:\n",
    "            last_id = full_tweets[-1].id\n",
    "            kwargs['max_id'] = last_id - 1\n",
    "\n",
    "        if tweet_type == 'home_timeline':\n",
    "            current = api.home_timeline(**kwargs)\n",
    "        else:\n",
    "            current = api.user_timeline(twitter_user, **kwargs)\n",
    "        \n",
    "        full_tweets.extend(current)\n",
    "    \n",
    "    for tweet in full_tweets:\n",
    "        text = re.sub(r'(https?://\\S+)', '', tweet.text)\n",
    "        \n",
    "        score = tweet.favorite_count + tweet.retweet_count\n",
    "        # if tweet.in_reply_to_status_id_str:\n",
    "        #    score -= 15\n",
    "\n",
    "        # Only tweets with at least five words.\n",
    "        if len(re.split(r'[^0-9A-Za-z]+', text)) > min_words:\n",
    "            tweets.append((text, score))\n",
    "            \n",
    "    return tweets"
   ]
  },
  {
   "cell_type": "code",
   "execution_count": 31,
   "metadata": {
    "collapsed": false
   },
   "outputs": [
    {
     "name": "stdout",
     "output_type": "stream",
     "text": [
      "{u'SamsungMobile': u'Be the first to know. The official go-to destination for #TheNextGalaxy real-time news, stories and more.', u'mydylan_17': u\"UMD '20\", u'TEDTalks': u'The official feed for  Ideas worth spreading.', u'carlosbauza': u'Web Designer, Web Marketing, Web Management, Web Development, Web Analytics, Social Media, Digital PR Manager, Celebrity Web Designer and Graphic Design', u'ForbesTech': u'Tech news and insights from Forbes.', u'RtoVR': u'World\\u2019s largest independent news publication dedicated to the consumer VR industry. Founded 2011. Follow Executive Editor @benz145 and Senior Editor @muterobert', u'googlevr': u\"From Cardboard, Daydream, Expeditions, Jump, Tilt Brush, @projecttango, and more, we're working on VR for everyone.\", u'BBCBreaking': u'Breaking news alerts and updates from the BBC. For news, features, analysis follow @BBCWorld (international) or @BBCNews (UK). Latest sport news @BBCSport.', u'jaimebayly': u'', u'MafaldaQuotes': u'Todos creemos en el pa\\xeds, lo que no se sabe es si a esta altura el pa\\xeds cree en nosotros. \\r\\nTRIBUTO a Joaqu\\xedn Salvador Lavado (Quino).', u'diegus0020': u'', u'googleresearch': u'At Google, research is performed company wide; we conduct and leverage research to build large-scale systems that are used in the real world.', u'ChiguireBipolar': u'Noticias parciales y sin veracidad a manos de un roedor con peos psicol\\xf3gicos.', u'Medium': u'Move thinking forward. For support go to @MediumSupport', u'sensefly': u'At senseFly we develop and produce aerial imaging drones for professional applications.', u'Jonnahtan': u'', u'timse7': u'Researcher, entrepreneur, & teacher on immersive multimedia communication, streaming, adaptation, & Quality of Experience. CIO @bitmovin | Assoc.-Prof @itecmmc', u'BBCClick': u\"The BBC's flagship tech show. Presented by @Spenley. Tweet us or include #BBCClick in tweets. Transmission times here - \", u'techreview': u'MIT Technology Review equips its audiences with the intelligence to understand a world shaped by technology.', u'Christopher_Abr': u'Venezuela, Spain, Portugal, LSE, fitness, travel, London, happiness - life is a balance of things that makes it fantastic!', u'HealthStoreIRL': u'We stock a wide selection of vitamins, herbs, natural cosmetics and wholefoods for all your health and nutritional needs.', u'slederer': u'CEO of @bitmovin (YC S15) | bitmovin Cloud Encoding and HTML5 Player | Online Video, MPEG-DASH, DRM, HTML5, HLS', u'CompSciFact': u'Daily tweets about computer science and related stuff @JohnDCook.', u'NoticiaenTuit': u'Reporte de Noticias en las Redes Sociales. ', u'jukkaeklund': u'Open technologist and life artist. #tampere #finland. Ex-#jolla #nokia #almamedia. Working @sofiadigital and always available for opportunities. #Tampere4ICT', u'pix4d': u'#Professional #Drone #Mapping #Software', u'DASH_IF': u'Working on MPEG-DASH, the Future of Video', u'auricurvy': u'I write my bio everyday...so is always changing', u'ForumEPFL': u\"Le Forum EPFL est le plus grand salon de recrutement de Suisse avec pr\\xe8s de 155 entreprises, 60 start-ups, 20 universit\\xe9s et plus de 15'000 visiteurs.\", u'ferdinan61': u'casada, dos hijos hermosos....', u'BillGates': u\"Sharing things I'm learning through my foundation work and other interests...\", u'TheFoundryTeam': u'Developers of innovative #CG, visual effects (#VFX), #VR and #3D #design #software solutions for the design, visualization and entertainment industries.', u'NetflixOSS': u'Announcements of new open source software projects and updates from Netflix engineering.', u'oculus': u'Oculus is focused on making it possible to experience anything, anywhere through the power of virtual reality technology.', u'SVVR2016': u\"Silicon Valley Virtual Reality - World's Largest Professional VR Conference & Expo  & longest running VR Meetup\", u'jamieoliver': u'Official Jamie Oliver: Proud Dad & Chef', u'raymacaricatura': u'instagram @raymacaricatura', u'WIRED': u'WIRED is where tomorrow is realized.', u'drfeifei': u'Professor of Computer Science, Stanford University, Director of Stanford AI Lab, Researcher in #AI, #computervision, #machinelearning, cognitive neuroscience.', u'bitmovin': u'Bitmovin (YC S15) Video Infrastructure for the Web | Fast Cloud Encoding | HTML5 Adaptive Streaming Player | VR/360 Streaming', u'karpathy': u'Research scientist at OpenAI. Previously CS PhD student at Stanford. I like to train Deep Neural Nets on large datasets. On a quest to solve intelligence.'}\n"
     ]
    }
   ],
   "source": [
    "\n",
    "# Get the descriptions of the people that twitter_user is following.\n",
    "descriptions = get_friends_descriptions(api, TWITTER_USER, max_users=300)\n",
    "print descriptions"
   ]
  },
  {
   "cell_type": "code",
   "execution_count": 14,
   "metadata": {
    "collapsed": false
   },
   "outputs": [
    {
     "name": "stdout",
     "output_type": "stream",
     "text": [
      "[(u\"RT @InvictusVeteran: Just watched the inaugural, @Cybathlon in Zurich, via @BBCclick. Fantastic! It's great to see technology being used mo\\u2026\", 12), (u'RT @JamiesFoodTube: .@GennaroContaldo\\u200b will be cooking up a Pumpkin Risotto for @JamiesItalianUK to support @StandUp2C: ', 21), (u\"RT @JamiesItalianUK: We're supporting standuptocancer_ with very special Risotto di Zucca. Ozzy pumpkin risotto with\\u2026 \", 8), (u'Turkish-backed rebels in Syria capture symbolically important Dabiq from IS, say rebel commanders and monitors ', 576), (u'Something a bit different: try my recipe for Costa Rican black bean soup, out in the Sunday Times Magazine today\\u2026 ', 89), (u'Get 50% off our future-focused Business Reports -  ', 4), (u'Amazon wants to come inside your house to deliver packages  ', 11), (u'My intense beetroot curry recipe is out in the Sunday Times Magazine @SundayTimesFood today  ', 97), (u'RT @codinghorror: This VR based technique of rendering only the *center* of the screen at full res seems very promising ', 18), (u'Where will Google go to find smartphone success?  ', 19)]\n"
     ]
    }
   ],
   "source": [
    "tweets = []\n",
    "tweets.extend(get_tweets(api, TWITTER_USER, 'timeline', 10))  # 400 = 2 requests (out of 15 in the window).\n",
    "#tweets.extend(get_tweets(api, TWITTER_USER, 'favorites', 4))  # 1000 = 5 requests (out of 180 in the window).\n",
    "print tweets"
   ]
  },
  {
   "cell_type": "code",
   "execution_count": null,
   "metadata": {
    "collapsed": true
   },
   "outputs": [],
   "source": []
  }
 ],
 "metadata": {
  "anaconda-cloud": {},
  "kernelspec": {
   "display_name": "Python [Root]",
   "language": "python",
   "name": "Python [Root]"
  },
  "language_info": {
   "codemirror_mode": {
    "name": "ipython",
    "version": 2
   },
   "file_extension": ".py",
   "mimetype": "text/x-python",
   "name": "python",
   "nbconvert_exporter": "python",
   "pygments_lexer": "ipython2",
   "version": "2.7.12"
  }
 },
 "nbformat": 4,
 "nbformat_minor": 0
}
